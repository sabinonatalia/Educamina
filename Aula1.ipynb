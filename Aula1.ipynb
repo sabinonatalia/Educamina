{
  "nbformat": 4,
  "nbformat_minor": 0,
  "metadata": {
    "colab": {
      "provenance": [],
      "authorship_tag": "ABX9TyPstbPjweC5/mgyRtL806bS",
      "include_colab_link": true
    },
    "kernelspec": {
      "name": "python3",
      "display_name": "Python 3"
    },
    "language_info": {
      "name": "python"
    }
  },
  "cells": [
    {
      "cell_type": "markdown",
      "metadata": {
        "id": "view-in-github",
        "colab_type": "text"
      },
      "source": [
        "<a href=\"https://colab.research.google.com/github/sabinonatalia/Educamina/blob/main/Aula1.ipynb\" target=\"_parent\"><img src=\"https://colab.research.google.com/assets/colab-badge.svg\" alt=\"Open In Colab\"/></a>"
      ]
    },
    {
      "cell_type": "code",
      "execution_count": null,
      "metadata": {
        "id": "Axt0LwMNLTlm"
      },
      "outputs": [],
      "source": []
    },
    {
      "cell_type": "markdown",
      "source": [
        "**Laços de repetição**\n",
        "\n"
      ],
      "metadata": {
        "id": "Bg90LP93LU3S"
      }
    },
    {
      "cell_type": "markdown",
      "source": [],
      "metadata": {
        "id": "zyjjqGUhLeCY"
      }
    },
    {
      "cell_type": "markdown",
      "source": [
        "ATIVIDADE\n",
        "\n",
        "O festival de música Pie in the Sky acontece todo ano. Você e suas amigas finalmente acreditam que têm idade suficiente para poder ter acesso ao evento.\n",
        "\n",
        "Para ter acesso liberado ao festival, você e suas amigas precisam formar um grupo de pelo menos 4 pessoas, que juntas somam no mínimo 77 anos.\n",
        "\n",
        "Faça um programa que leia a idade de cada uma das suas amigas e verifique se vocês conseguirão entrar no evento.\n"
      ],
      "metadata": {
        "id": "5Ld0Ag-cMrNh"
      }
    },
    {
      "cell_type": "code",
      "source": [
        "n = int(input(\"Digite o número de integrantes do seu grupo: \"))\n",
        "soma_idades = 0\n",
        "\n",
        "for i in range(0,n):\n",
        "  nome = input(\"DIgite seu nome: \")\n",
        "  print(\"Olá\", nome)\n",
        "  idade = int(input(\"Olá\",nome, \"Qual sua idade?\"))\n",
        "  soma_idades += idade\n",
        "\n",
        "if soma_idades >= 77:\n",
        "  print(\"Parabéns! Vocês podem entrar Pie in the Sky\")\n",
        "else:\n",
        "  print(\"Desculpe! Vocês não podem entrar no Pie in the Sky\")"
      ],
      "metadata": {
        "colab": {
          "base_uri": "https://localhost:8080/",
          "height": 263
        },
        "id": "ou1R0DuxLcFQ",
        "outputId": "3096c4ef-5dd1-46be-8e1f-ded9824dd8f5"
      },
      "execution_count": null,
      "outputs": [
        {
          "output_type": "stream",
          "name": "stdout",
          "text": [
            "Digite o número de integrantes do seu grupo: 4\n",
            "DIgite seu nome: natalia\n",
            "Olá natalia\n"
          ]
        },
        {
          "output_type": "error",
          "ename": "TypeError",
          "evalue": "Kernel.raw_input() takes from 1 to 2 positional arguments but 4 were given",
          "traceback": [
            "\u001b[0;31m---------------------------------------------------------------------------\u001b[0m",
            "\u001b[0;31mTypeError\u001b[0m                                 Traceback (most recent call last)",
            "\u001b[0;32m/tmp/ipython-input-2891437936.py\u001b[0m in \u001b[0;36m<cell line: 0>\u001b[0;34m()\u001b[0m\n\u001b[1;32m      5\u001b[0m   \u001b[0mnome\u001b[0m \u001b[0;34m=\u001b[0m \u001b[0minput\u001b[0m\u001b[0;34m(\u001b[0m\u001b[0;34m\"DIgite seu nome: \"\u001b[0m\u001b[0;34m)\u001b[0m\u001b[0;34m\u001b[0m\u001b[0;34m\u001b[0m\u001b[0m\n\u001b[1;32m      6\u001b[0m   \u001b[0mprint\u001b[0m\u001b[0;34m(\u001b[0m\u001b[0;34m\"Olá\"\u001b[0m\u001b[0;34m,\u001b[0m \u001b[0mnome\u001b[0m\u001b[0;34m)\u001b[0m\u001b[0;34m\u001b[0m\u001b[0;34m\u001b[0m\u001b[0m\n\u001b[0;32m----> 7\u001b[0;31m   \u001b[0midade\u001b[0m \u001b[0;34m=\u001b[0m \u001b[0mint\u001b[0m\u001b[0;34m(\u001b[0m\u001b[0minput\u001b[0m\u001b[0;34m(\u001b[0m\u001b[0;34m\"Olá\"\u001b[0m\u001b[0;34m,\u001b[0m\u001b[0mnome\u001b[0m\u001b[0;34m,\u001b[0m \u001b[0;34m\"Qual sua idade?\"\u001b[0m\u001b[0;34m)\u001b[0m\u001b[0;34m)\u001b[0m\u001b[0;34m\u001b[0m\u001b[0;34m\u001b[0m\u001b[0m\n\u001b[0m\u001b[1;32m      8\u001b[0m   \u001b[0msoma_idades\u001b[0m \u001b[0;34m+=\u001b[0m \u001b[0midade\u001b[0m\u001b[0;34m\u001b[0m\u001b[0;34m\u001b[0m\u001b[0m\n\u001b[1;32m      9\u001b[0m \u001b[0;34m\u001b[0m\u001b[0m\n",
            "\u001b[0;31mTypeError\u001b[0m: Kernel.raw_input() takes from 1 to 2 positional arguments but 4 were given"
          ]
        }
      ]
    },
    {
      "cell_type": "markdown",
      "source": [
        "No hortifruti que Marina trabalha existem 150 variações de produtos disponíveis para as clientes.\n",
        "\n",
        "Para entender um pouco mais sobre o perfil de compra das clientes, as analistas de dados da empresa resolveram verificar quais tipos de produtos as clientes compram em cada pedido.\n",
        "\n",
        "Utilize as estruturas break e for para ajudar Marina a criar um programa que tenha como entrada os nomes dos produtos que a cliente comprou em um pedido e que retorne quantos produtos diferentes foram comprados.\n"
      ],
      "metadata": {
        "id": "oheYvTYOZYPk"
      }
    },
    {
      "cell_type": "code",
      "source": [
        "qtd_produtos_comprados = 0\n",
        "\n",
        "for i in range (150):\n",
        "  produto = input(\"Digite o nome do produto ou 'encerrar', para encerrar a operação \")\n",
        "  if produto.lower() == 'encerrar':\n",
        "    break\n",
        "  else:\n",
        "    qtd_produtos_comprados += 1\n",
        "\n",
        "print(\"A quantidade de produtos comprados foi: \", qtd_produtos_comprados)"
      ],
      "metadata": {
        "colab": {
          "base_uri": "https://localhost:8080/"
        },
        "id": "6mf7VpFbZcwM",
        "outputId": "42ee6d5e-01e5-4c10-c214-f39481205b4d"
      },
      "execution_count": null,
      "outputs": [
        {
          "output_type": "stream",
          "name": "stdout",
          "text": [
            "Digite o nome do produto ou 'encerrar', para encerrar a operação Uva\n",
            "Digite o nome do produto ou 'encerrar', para encerrar a operação Pera\n",
            "Digite o nome do produto ou 'encerrar', para encerrar a operação Encerrar\n",
            "A quantidade de produtos comprados foi:  2\n"
          ]
        }
      ]
    },
    {
      "cell_type": "code",
      "source": [
        "#While\n",
        "\n",
        "n = int(input())\n",
        "while n > 0:\n",
        "  print(n)\n",
        "  n = n -1\n",
        "print(\"Finalizou\")"
      ],
      "metadata": {
        "colab": {
          "base_uri": "https://localhost:8080/"
        },
        "id": "mZSBC_SDfBWc",
        "outputId": "085480c7-952d-41a6-ba58-19b5f71b511a"
      },
      "execution_count": null,
      "outputs": [
        {
          "output_type": "stream",
          "name": "stdout",
          "text": [
            "10\n",
            "10\n",
            "9\n",
            "8\n",
            "7\n",
            "6\n",
            "5\n",
            "4\n",
            "3\n",
            "2\n",
            "1\n",
            "Finalizou\n"
          ]
        }
      ]
    },
    {
      "cell_type": "code",
      "source": [
        "senha_correta = \"2cr2\"\n",
        "senha_inserida = input(\"Qual é a senha? \")\n",
        "\n",
        "while senha_inserida != senha_correta:\n",
        "  print(\"A senha esta incorreta. Digite novamente: \")\n",
        "  senha_inserida = input()\n",
        "\n",
        "\n"
      ],
      "metadata": {
        "id": "5FoGIo-Cf2s0"
      },
      "execution_count": null,
      "outputs": []
    },
    {
      "cell_type": "code",
      "source": [],
      "metadata": {
        "id": "KIQLyRcnk2vr"
      },
      "execution_count": null,
      "outputs": []
    },
    {
      "cell_type": "markdown",
      "source": [
        "Desafio - parte 1\n",
        "\n",
        "Crie um código ṕara coletar, enquanto a usuaria desejar, as informações do produto:\n",
        "\n",
        "- Nome\n",
        "- Preço\n",
        "- Quantidade em estoque."
      ],
      "metadata": {
        "id": "cCInkyfGk40w"
      }
    },
    {
      "cell_type": "code",
      "source": [
        "while True:\n",
        "  nome_produto = input(\"Digite o nome do produto \")\n",
        "  if nome_produto == \"\":\n",
        "    break\n",
        "  preco = float(input(\"Digite o preço do produto \"))\n",
        "  quantidade = int(input(\"Digite a quantidade disponivel do produto: \"))"
      ],
      "metadata": {
        "colab": {
          "base_uri": "https://localhost:8080/"
        },
        "id": "QRmCDcAnk8CT",
        "outputId": "e0901269-ddd9-48cc-859f-1fc0a1315a08"
      },
      "execution_count": null,
      "outputs": [
        {
          "name": "stdout",
          "output_type": "stream",
          "text": [
            "Digite o nome do produto caderno\n",
            "Digite o preço do produto 11.99\n",
            "Digite a quantide disponivel do produto: 3\n",
            "Digite o nome do produto \n"
          ]
        }
      ]
    },
    {
      "cell_type": "markdown",
      "source": [
        "Ajude a professora Anna a completar o relatório do seu curso de Python. Ela precisa informar quantas das estudantes irão receber o certificado ao fim do curso.\n",
        "\n",
        "Para receber o certificado, a aluna precisa ter presença no mínimo em 3 das 5 aulas.\n",
        "\n",
        "Ela informa que a turma possui 10 estudantes com as seguintes quantidades de faltas, em ordem de chamada:\n",
        "\n",
        "[0,3,0,0,0,1,2,1,1,0]\n",
        "\n",
        "Faça um programa que recebe o número de chamada da aluna e imprime a sua quantidade de faltas"
      ],
      "metadata": {
        "id": "zhrnPpcoEjMj"
      }
    },
    {
      "cell_type": "code",
      "source": [
        "faltas = [0,3,0,0,0,1,2,1,1,0]\n",
        "\n",
        "aluna = int(input(\"Digite o número da aluna: \"))\n",
        "\n",
        "print(\"Quantidade de faltas: \", faltas[aluna-1])\n",
        "\n"
      ],
      "metadata": {
        "colab": {
          "base_uri": "https://localhost:8080/"
        },
        "id": "zn7KO86tElpe",
        "outputId": "4c72e127-a8da-4242-c7cf-1941285bbe1b"
      },
      "execution_count": null,
      "outputs": [
        {
          "output_type": "stream",
          "name": "stdout",
          "text": [
            "Digite o número da aluna: 2\n",
            "Quantidade de faltas:  3\n"
          ]
        }
      ]
    },
    {
      "cell_type": "markdown",
      "source": [
        "Atividade\n",
        "\n",
        "Após Anna escrever a lista com as notas das alunas, ela\n",
        "percebeu que cometeu dois erros na conferência da lista\n",
        "de presença. A terceira aluna da lista teve na verdade\n",
        "duas faltas ao invés de zero e a oitava aluna teve três\n",
        "faltas ao invés de uma.\n",
        "Escreva um código simulando essa alteração na lista,\n",
        "utilizando a alteração de itens por índice.\n",
        "faltas_iniciais = [0,3,0,0,0,1,2,1,1,0]"
      ],
      "metadata": {
        "id": "yg1c0fqbI__s"
      }
    },
    {
      "cell_type": "code",
      "source": [
        "faltas= [0,3,0,0,0,1,2,1,1,0]\n",
        "\n",
        "faltas [2] = 2\n",
        "faltas [7] = 3\n",
        "print(faltas)\n",
        "\n",
        "\n"
      ],
      "metadata": {
        "colab": {
          "base_uri": "https://localhost:8080/"
        },
        "id": "nH5zHPvtJHoi",
        "outputId": "50459998-1d5d-4a82-c1bc-ec66571a45b5"
      },
      "execution_count": null,
      "outputs": [
        {
          "output_type": "stream",
          "name": "stdout",
          "text": [
            "[0, 3, 2, 0, 0, 1, 2, 3, 1, 0]\n"
          ]
        }
      ]
    },
    {
      "cell_type": "markdown",
      "source": [
        "Desafio - parte 2\n",
        "\n",
        "Vamos juntar as nossas informações!\n",
        "Modifique o seu código para armazenar as informações do produto\n",
        "coletadas (nome, preço e quantidade disponível) em uma lista\n",
        "depois imprima na tela: “Produto Cadastrado”"
      ],
      "metadata": {
        "id": "YS3z_EZcMrQp"
      }
    },
    {
      "cell_type": "code",
      "source": [],
      "metadata": {
        "id": "zvi8jq1oMPGa"
      },
      "execution_count": null,
      "outputs": []
    },
    {
      "cell_type": "code",
      "source": [
        "while True:\n",
        "  nome_produto = input(\"Digite o nome do produto \")\n",
        "  if nome_produto == \"\":\n",
        "    break\n",
        "  preco = float(input(\"Digite o preço do produto \"))\n",
        "  quantidade = int(input(\"Digite a quantidade disponivel do produto: \"))"
      ],
      "metadata": {
        "id": "AFcbYL6kQTRG"
      },
      "execution_count": null,
      "outputs": []
    },
    {
      "cell_type": "code",
      "source": [
        "resposta = \"Deseja cadastrar um novo produto? (S/N)\"\n",
        "\n",
        "while resposta == \"S\":\n",
        "  nome = input(\"Digite o nome do produto: \")\n",
        "  preco = float(input(\"Digite o valor do produto: \"))\n",
        "  quantidade = int(input(\"Digite a quantidade do produto: \"))\n",
        "  produto = [nome, preco, quantidade]\n",
        "  print(\"Produto cadastradado\")\n",
        "\n",
        "resposta =  input(\"Deseja cadastrar um novo produto? (S/N)\")\n"
      ],
      "metadata": {
        "colab": {
          "base_uri": "https://localhost:8080/"
        },
        "id": "3_ktYCroQT05",
        "outputId": "281d7a7e-5200-4336-b1ec-3462534019e9"
      },
      "execution_count": null,
      "outputs": [
        {
          "name": "stdout",
          "output_type": "stream",
          "text": [
            "Deseja cadastrar um novo produto? (S/N)S\n"
          ]
        }
      ]
    },
    {
      "cell_type": "code",
      "source": [
        "tarefas = []\n",
        "\n",
        "repita = True\n",
        "while repita:\n",
        "  adicionar_tarefa = input(\"Digite a tarefa a ser adicionada à sua lista: \")\n",
        "  if adicionar_tarefa.lower() == \"fim\":\n",
        "    repita = False\n",
        "  else:\n",
        "    tarefas.append(adicionar_tarefa)\n",
        "print(\"Quantidade de tarefas:\", len(tarefas))"
      ],
      "metadata": {
        "colab": {
          "base_uri": "https://localhost:8080/"
        },
        "id": "TidD2XoSW26Z",
        "outputId": "2b5dc57a-073b-4606-d597-5a8ffb41505f"
      },
      "execution_count": null,
      "outputs": [
        {
          "output_type": "stream",
          "name": "stdout",
          "text": [
            "Digite a tarefa a ser adicionada à suaa lista: ESCREVER TRABALHO\n",
            "Digite a tarefa a ser adicionada à suaa lista: LER TEXTO \n",
            "Digite a tarefa a ser adicionada à suaa lista: FIM\n",
            "Quantidade de tarefas: 2\n"
          ]
        }
      ]
    },
    {
      "cell_type": "markdown",
      "source": [
        "Desafio - parte 3"
      ],
      "metadata": {
        "id": "wxMRcLQjZh0m"
      }
    },
    {
      "cell_type": "code",
      "source": [
        "Estoque = []\n",
        "while True:\n",
        " Nome_produto = input(\"Digite o nome do produto \")\n",
        " if Nome_produto == \"\":\n",
        "  break\n",
        " Preco = float(input(\"Digite o preço do produto \"))\n",
        " Quantidade = int(input(\"Digite a quantidade disponível do produto \"))\n",
        " Produto = [Nome_produto, Preco, Quantidade]\n",
        " Estoque.append(Produto)\n",
        " print(\"Produto cadastrado\")"
      ],
      "metadata": {
        "colab": {
          "base_uri": "https://localhost:8080/"
        },
        "id": "KRMQbd46ZnEp",
        "outputId": "13afc6c3-1981-40c8-d865-858f60ee71ee"
      },
      "execution_count": null,
      "outputs": [
        {
          "name": "stdout",
          "output_type": "stream",
          "text": [
            "Digite o nome do produto CADEADO\n",
            "Digite o preço do produto 4.00\n",
            "Digite a quantidade disponível do produto 8\n",
            "Produto cadastrado\n",
            "Digite o nome do produto \n"
          ]
        }
      ]
    },
    {
      "cell_type": "code",
      "source": [],
      "metadata": {
        "id": "roWjCWvcdspV"
      },
      "execution_count": null,
      "outputs": []
    }
  ]
}
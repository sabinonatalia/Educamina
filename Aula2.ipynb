{
  "nbformat": 4,
  "nbformat_minor": 0,
  "metadata": {
    "colab": {
      "provenance": [],
      "authorship_tag": "ABX9TyPtKUMyohtGSJ2OXuhElcal",
      "include_colab_link": true
    },
    "kernelspec": {
      "name": "python3",
      "display_name": "Python 3"
    },
    "language_info": {
      "name": "python"
    }
  },
  "cells": [
    {
      "cell_type": "markdown",
      "metadata": {
        "id": "view-in-github",
        "colab_type": "text"
      },
      "source": [
        "<a href=\"https://colab.research.google.com/github/sabinonatalia/Educamina/blob/main/Aula2.ipynb\" target=\"_parent\"><img src=\"https://colab.research.google.com/assets/colab-badge.svg\" alt=\"Open In Colab\"/></a>"
      ]
    },
    {
      "cell_type": "code",
      "execution_count": null,
      "metadata": {
        "colab": {
          "base_uri": "https://localhost:8080/"
        },
        "id": "nahIlfe0GAJq",
        "outputId": "92cfff5f-f74c-4348-b72c-6a659e5f7204"
      },
      "outputs": [
        {
          "output_type": "stream",
          "name": "stdout",
          "text": [
            "Média =  7.449999999999999\n"
          ]
        }
      ],
      "source": [
        "lista_notas= [3.4, 6.6, 8, 9, 10, 9.5, 8.8, 4.3]\n",
        "soma=0\n",
        "for nota in lista_notas:\n",
        "  soma = soma+nota\n",
        "  media = soma/len(lista_notas)\n",
        "print('Média = ', media)"
      ]
    },
    {
      "cell_type": "code",
      "source": [
        "lista_notas = [3.4, 6.6, 8, 9, 10, 9.5, 8.8, 4.3]\n",
        "soma = 0 #variavel acumuladora\n",
        "\n",
        "for nota in lista_notas:\n",
        "  soma =  soma + nota #atualizar sempre o valor da variavel mais o valor que queremos adicionar\n",
        "  qtd_elementos = len(lista_notas) #quantidade de elementos de uma lista\n",
        "  media_final = soma / qtd_elementos\n",
        "  print(\"Média\", media)"
      ],
      "metadata": {
        "colab": {
          "base_uri": "https://localhost:8080/"
        },
        "id": "w201AtYYPlfG",
        "outputId": "6ee1abe6-6354-48cf-82e5-2ad432fc7cee"
      },
      "execution_count": null,
      "outputs": [
        {
          "output_type": "stream",
          "name": "stdout",
          "text": [
            "Média 7.449999999999999\n",
            "Média 7.449999999999999\n",
            "Média 7.449999999999999\n",
            "Média 7.449999999999999\n",
            "Média 7.449999999999999\n",
            "Média 7.449999999999999\n",
            "Média 7.449999999999999\n",
            "Média 7.449999999999999\n"
          ]
        }
      ]
    },
    {
      "cell_type": "markdown",
      "source": [
        "Vamos transformar nosso estoque em um dicionário!\n",
        "Modifique seu código para que o nome do produto seja\n",
        "uma nova chave e insira a lista com as outras\n",
        "informações dentro dela."
      ],
      "metadata": {
        "id": "lzA03TeUYe_M"
      }
    },
    {
      "cell_type": "code",
      "source": [
        "Estoque = {}\n",
        "while True:\n",
        "  Nome_produto = input(\"Digite o nome do produto \")\n",
        "  if Nome_produto == \"\":\n",
        "    break\n",
        "Preço = float(input(\"Digite o preço do produto \"))\n",
        "Quantidade = int(input(\"Digite a quantidade disponível do produto \"))\n",
        "Estoque[Nome_produto] = [Preço,Quantidade]\n",
        "#Estoque[Nome_produto] = {\"Preço\":Preço,\"Quantidade\":Quantidade} - alternativa\n",
        "print(\"Produto cadastrado\")"
      ],
      "metadata": {
        "colab": {
          "base_uri": "https://localhost:8080/"
        },
        "id": "rwq3jicIYi4s",
        "outputId": "d4f8c773-bb76-45c7-c5c3-00b1f72328b0"
      },
      "execution_count": null,
      "outputs": [
        {
          "output_type": "stream",
          "name": "stdout",
          "text": [
            "Digite o nome do produto caderno\n",
            "Digite o nome do produto \n",
            "Digite o preço do produto 10.00\n",
            "Digite a quantidade disponível do produto 3\n",
            "Produto cadastrado\n"
          ]
        }
      ]
    },
    {
      "cell_type": "code",
      "source": [
        "estoque =  {} #dicionario vazio\n",
        "\n",
        "resposta = input(\"Deseja cadastrar uma \")"
      ],
      "metadata": {
        "id": "9-rbiq7nbWrR"
      },
      "execution_count": null,
      "outputs": []
    },
    {
      "cell_type": "markdown",
      "source": [
        "Lucy e Ana estão em processo de\n",
        "mudança para uma nova república\n",
        "universitária e, pela primeira\n",
        "vez, farão compras no mercado\n",
        "\n",
        "local.\n",
        "\n",
        "Na tabela ao lado temos alguns\n",
        "itens da lista de compras com\n",
        "os preços do folheto\n",
        "promocional.\n",
        "\n",
        "Elabore um programa para ajudar Lucy e Ana a checar os preços\n",
        "dos produtos com um dicionário. Elas devem digitar o nome do\n",
        "produto e receber seu preço. Ao digitar fim o programa pára de\n",
        "\n",
        "rodar."
      ],
      "metadata": {
        "id": "4U0tPVU-dyVI"
      }
    },
    {
      "cell_type": "code",
      "source": [
        "lista_mercado = {'arroz': 18.00,\n",
        "                 'feijão': 7.99,\n",
        "                 'alface': 1.98,\n",
        "                 'batata': 4.59,\n",
        "                 'macarrão': 2.99}\n",
        "while True:\n",
        "  produto = input(\"Digite o nome do produto, ou fim para terminar: \")\n",
        "  if produto == \"fim\":\n",
        "    break\n",
        "  if produto in lista_mercado:\n",
        "    print(\"Preço: R$\", lista_mercado[produto])\n",
        "  else:\n",
        "    print(\"Produto não encontrado!\")\n"
      ],
      "metadata": {
        "colab": {
          "base_uri": "https://localhost:8080/"
        },
        "id": "3JWgaXXbeLCf",
        "outputId": "220e799d-802b-4585-ce8d-6f7647e3d4ce"
      },
      "execution_count": null,
      "outputs": [
        {
          "name": "stdout",
          "output_type": "stream",
          "text": [
            "Digite o nome do produto, ou fim para terminar: fim\n"
          ]
        }
      ]
    },
    {
      "cell_type": "markdown",
      "source": [
        "Desafio - parte 5:\n",
        "\n",
        "Vamos verificar se um produto está no nosso estoque!\n",
        "Crie um novo código para coletar o nome do produto e\n",
        "verificar se ele está presente do nosso estoque. Se\n",
        "estiver, imprima seu preço e a quantidade disponível.\n",
        "Se não, imprima: “Produto não encontrado”."
      ],
      "metadata": {
        "id": "2zpb27TolIWC"
      }
    },
    {
      "cell_type": "code",
      "source": [],
      "metadata": {
        "id": "SCSC1vh_d33o"
      },
      "execution_count": null,
      "outputs": []
    },
    {
      "cell_type": "code",
      "source": [
        "Estoque = {}\n",
        "while True:\n",
        "  Nome_produto = input(\"Digite o nome do produto \")\n",
        "  if Nome_produto == \"\":\n",
        "    break\n",
        "Preço = float(input(\"Digite o preço do produto \"))\n",
        "Quantidade = int(input(\"Digite a quantidade disponível do produto \"))\n",
        "Estoque[Nome_produto] = [Preço,Quantidade]\n",
        "#Estoque[Nome_produto] = {\"Preço\":Preço,\"Quantidade\":Quantidade} - alternativa\n",
        "print(\"Produto cadastrado\")"
      ],
      "metadata": {
        "id": "z_FxLsHuloV5"
      },
      "execution_count": null,
      "outputs": []
    },
    {
      "cell_type": "code",
      "source": [
        "#pesquisar produto\n",
        "nome = input(\"Digite o nome do produto \")\n",
        "if nome in Estoque:\n",
        "  print(f\"Preço: {Estoque[nome]['Preço']} Quantidade:{Estoque[nome]['Quantidade']}\")\n",
        "else:\n",
        "  print(\"Produto não encontrado\")"
      ],
      "metadata": {
        "colab": {
          "base_uri": "https://localhost:8080/"
        },
        "id": "yjnUciVzl7Pv",
        "outputId": "43d6529d-bfc4-4c16-a20e-0f98267775d9"
      },
      "execution_count": null,
      "outputs": [
        {
          "output_type": "stream",
          "name": "stdout",
          "text": [
            "Digite o nome do produto caderno\n",
            "Produto não encontrado\n"
          ]
        }
      ]
    },
    {
      "cell_type": "markdown",
      "source": [],
      "metadata": {
        "id": "3vn8rrC3Q0L1"
      }
    },
    {
      "cell_type": "markdown",
      "source": [],
      "metadata": {
        "id": "VpkoBukJowab"
      }
    },
    {
      "cell_type": "code",
      "source": [
        "genero = {'O senhor dos Anéis': 'Ficção de aventura',\n",
        "                 'Perdida':'Romance'\n",
        "                 }\n",
        "livro_consultado = input(\"DIgite qual o  livro deseja consultar ou 'encerrar', para encerrar o programa: \")\n",
        "while livro_consultado != \"encerrar\":\n",
        "  if livro_consultado in genero:\n",
        "    print(genero[livro_consultado])\n",
        "  else:\n",
        "    print(\"Livro indisponivel\")\n",
        "  livro_consultado = input(\"Digite qual livro deseja consultar ou 'encerrar', para encerrar o programa: \")\n",
        "  print(\"Agradecemos a preferência, volte sempre!\")"
      ],
      "metadata": {
        "id": "vxM7pIpTow-Z"
      },
      "execution_count": null,
      "outputs": []
    },
    {
      "cell_type": "code",
      "source": [],
      "metadata": {
        "id": "S0QlvELuqojC"
      },
      "execution_count": null,
      "outputs": []
    },
    {
      "cell_type": "code",
      "source": [],
      "metadata": {
        "id": "r2Slzo2iqpNn"
      },
      "execution_count": null,
      "outputs": []
    },
    {
      "cell_type": "markdown",
      "source": [],
      "metadata": {
        "id": "05lGfIx_qnoq"
      }
    }
  ]
}